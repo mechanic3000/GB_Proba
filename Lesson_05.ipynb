{
 "cells": [
  {
   "cell_type": "markdown",
   "id": "53fff50f",
   "metadata": {},
   "source": [
    "__Задача 1__\n",
    "\n",
    "Известно, что генеральная совокупность распределена нормально с известным средним квадратическим отклонением 16. Найти ширину доверительного интервала для оценки математического ожидания `mu` с надёжностью 0.95, если выборочное среднее равно 80, а объём выборки равен 256.\n"
   ]
  },
  {
   "cell_type": "code",
   "execution_count": 165,
   "id": "1eecc379",
   "metadata": {},
   "outputs": [],
   "source": [
    "from scipy import stats\n",
    "import numpy as np"
   ]
  },
  {
   "cell_type": "code",
   "execution_count": 166,
   "id": "84948833",
   "metadata": {},
   "outputs": [],
   "source": [
    "sigma = 16\n",
    "p = 0.95\n",
    "X_ = 80\n",
    "n = 256\n",
    "\n",
    "alpha = 1 - p"
   ]
  },
  {
   "cell_type": "markdown",
   "id": "cd0ac53c",
   "metadata": {},
   "source": [
    "Доверительный интервал с известной дисперсией\n",
    "$$P \\left( \\overline{X} + t_{\\alpha / 2} \\cdot \\dfrac{\\sigma}{\\sqrt{n}} \\leq \\mu \\leq \\overline{X} + t_{1 - \\alpha / 2} \\cdot \\dfrac{\\sigma}{\\sqrt{n}} \\right) = p$$"
   ]
  },
  {
   "cell_type": "code",
   "execution_count": 167,
   "id": "3e229a40",
   "metadata": {},
   "outputs": [
    {
     "data": {
      "text/plain": [
       "(-1.959963984540054, 1.959963984540054)"
      ]
     },
     "execution_count": 167,
     "metadata": {},
     "output_type": "execute_result"
    }
   ],
   "source": [
    "t1 = stats.norm.ppf(alpha / 2)\n",
    "t2 = stats.norm.ppf(1 - alpha / 2)\n",
    "\n",
    "t1, t2"
   ]
  },
  {
   "cell_type": "code",
   "execution_count": 168,
   "id": "e8f1e2cd",
   "metadata": {},
   "outputs": [
    {
     "data": {
      "text/plain": [
       "(78.04003601545995, 81.95996398454005)"
      ]
     },
     "execution_count": 168,
     "metadata": {},
     "output_type": "execute_result"
    }
   ],
   "source": [
    "left = X_ + t1 * sigma / np.sqrt(n)\n",
    "right = X_ + t2 * sigma / np.sqrt(n)\n",
    "left, right"
   ]
  },
  {
   "cell_type": "code",
   "execution_count": 169,
   "id": "e51b8eb1",
   "metadata": {},
   "outputs": [
    {
     "name": "stdout",
     "output_type": "stream",
     "text": [
      "Ширина мат ожидания mu = 3.91992797\n"
     ]
    }
   ],
   "source": [
    "print(f'Ширина мат ожидания mu = {(right-left):.8f}')"
   ]
  },
  {
   "cell_type": "markdown",
   "id": "aa25100f",
   "metadata": {},
   "source": [
    "__Задача 2__\n",
    "\n",
    "Продавец утверждает, что средний вес пачки печенья составляет 200 г. Из партии извлечена выборка из 10 пачек. Вес каждой пачки составляет:\n",
    "```\n",
    "202, 203, 199, 197, 195, 201, 200, 204, 194, 190\n",
    "```\n",
    "Известно, что их веса распределены нормально. Верно ли утверждение продавца, если учитывать, что уровень значимости равен 1%? Найдите P-значение для данного теста и укажите его в качестве ответа."
   ]
  },
  {
   "cell_type": "code",
   "execution_count": 170,
   "id": "fdc280ad",
   "metadata": {},
   "outputs": [
    {
     "data": {
      "text/plain": [
       "(10, 198.5, 4.224926034855522)"
      ]
     },
     "execution_count": 170,
     "metadata": {},
     "output_type": "execute_result"
    }
   ],
   "source": [
    "X_test = 200\n",
    "wieght_list = np.array([202, 203, 199, 197, 195, 201, 200, 204, 194, 190])\n",
    "n = len(wieght_list)\n",
    "mean = wieght_list.mean()\n",
    "std = wieght_list.std()\n",
    "alpha = 0.01\n",
    "n, mean, std"
   ]
  },
  {
   "cell_type": "code",
   "execution_count": 171,
   "id": "8b91fe40",
   "metadata": {},
   "outputs": [],
   "source": [
    "def statistic(samples: np.ndarray, test_value: float) -> float:\n",
    "    return (samples.mean() - test_value) / (samples.std(ddof=1) / np.sqrt(samples.shape[0]))"
   ]
  },
  {
   "cell_type": "code",
   "execution_count": 172,
   "id": "7d280ae4",
   "metadata": {},
   "outputs": [
    {
     "data": {
      "text/plain": [
       "-1.0651074037450896"
      ]
     },
     "execution_count": 172,
     "metadata": {},
     "output_type": "execute_result"
    }
   ],
   "source": [
    "S = statistic(wieght_list, X_test)\n",
    "S"
   ]
  },
  {
   "cell_type": "code",
   "execution_count": 173,
   "id": "0fdd59d1",
   "metadata": {},
   "outputs": [
    {
     "data": {
      "text/plain": [
       "(-3.24983554401537, 3.2498355440153697)"
      ]
     },
     "execution_count": 173,
     "metadata": {},
     "output_type": "execute_result"
    }
   ],
   "source": [
    "t1 = stats.t.ppf(alpha / 2, df=n - 1)\n",
    "t2 = stats.t.ppf(1 - alpha / 2, df=n - 1)\n",
    "\n",
    "t1, t2"
   ]
  },
  {
   "cell_type": "code",
   "execution_count": 174,
   "id": "9fee7f12",
   "metadata": {},
   "outputs": [
    {
     "name": "stdout",
     "output_type": "stream",
     "text": [
      "Утверждение кондитера верно. Средний вес пачки печенья = 200гр.\n"
     ]
    }
   ],
   "source": [
    "if S < t1 or S > t2:\n",
    "    print(\"Утверждение кондитера не верно.\")\n",
    "else:\n",
    "    print(\"Утверждение кондитера верно. Средний вес пачки печенья = 200гр.\")"
   ]
  },
  {
   "cell_type": "code",
   "execution_count": 175,
   "id": "72977d7a",
   "metadata": {},
   "outputs": [
    {
     "data": {
      "text/plain": [
       "0.31456660352472854"
      ]
     },
     "execution_count": 175,
     "metadata": {},
     "output_type": "execute_result"
    }
   ],
   "source": [
    "p_left = stats.t.cdf(S, df=n - 1)\n",
    "p_right = 1 - stats.t.cdf(S, df=n - 1)\n",
    "\n",
    "pvalue = 2 * min(p_left, p_right)\n",
    "pvalue"
   ]
  },
  {
   "cell_type": "markdown",
   "id": "33922734",
   "metadata": {},
   "source": [
    "__Задача 3__\n",
    "\n",
    "Дана выборка диаметров подшипников из примера 1 с занятия 5:\n",
    "```\n",
    "samples = [0.6603, 0.9466, 0.5968, 1.3792, 1.5481, 0.7515, 1.0681, 1.1134,\n",
    "           1.2088, 1.701 , 1.0282, 1.3579, 1.0191, 1.1784, 1.1168, 1.1372,\n",
    "           0.7273, 1.3958, 0.8665, 1.5112, 1.161 , 1.0232, 1.0865, 1.02  ]\n",
    "```\n",
    "Предполагая, что диаметры подшипников распределены нормально, проверьте гипотезу о том, что дисперсия случайной величины равна `0.0625` при уровне значимости `alpha = 0.05`. Что для этого нужно знать:\n",
    "1. Альтернативная гипотеза двухсторонняя.\n",
    "2. Статистика для теста: `H = (n - 1) * sample_variance / variance`, где `n` - число элементов в выборке, `sample_variance` - несмещённая оценка дисперсии, `variance` - утверждаемая нулевой гипотезой дисперсия.\n",
    "3. Эта статистика в предположении верности нулевой гипотезы имеет распределение хи-квадрат с параметром `df = n - 1`. Её квантили можно найти с помощью функции `scipy.stats.chi2.ppf`.\n",
    "\n",
    "В качестве ответа запишите 1, если нулевая гипотеза верна, и 0 иначе."
   ]
  },
  {
   "cell_type": "code",
   "execution_count": 176,
   "id": "309c72c7",
   "metadata": {},
   "outputs": [
    {
     "data": {
      "text/plain": [
       "24"
      ]
     },
     "execution_count": 176,
     "metadata": {},
     "output_type": "execute_result"
    }
   ],
   "source": [
    "samples = np.array([0.6603, 0.9466, 0.5968, 1.3792, 1.5481, 0.7515, 1.0681, 1.1134,\n",
    "           1.2088, 1.701 , 1.0282, 1.3579, 1.0191, 1.1784, 1.1168, 1.1372,\n",
    "           0.7273, 1.3958, 0.8665, 1.5112, 1.161 , 1.0232, 1.0865, 1.02  ])\n",
    "\n",
    "alpha = 0.05\n",
    "\n",
    "# H0 -> D_x = 0.0625\n",
    "\n",
    "variance = 0.0625\n",
    "\n",
    "n = samples.shape[0]\n",
    "n"
   ]
  },
  {
   "cell_type": "markdown",
   "id": "5d6801e0",
   "metadata": {},
   "source": [
    "Формула несмещенной оценки дисперсии\n",
    "$$ \\hat{S}^2 = \\frac{\\sum_{i=1}^{n}(Xi - \\overline{X})^2}{n-1} $$"
   ]
  },
  {
   "cell_type": "code",
   "execution_count": 177,
   "id": "466b792b",
   "metadata": {},
   "outputs": [
    {
     "data": {
      "text/plain": [
       "0.07804495041666669"
      ]
     },
     "execution_count": 177,
     "metadata": {},
     "output_type": "execute_result"
    }
   ],
   "source": [
    "sample_variance = np.sum((samples - samples.mean())**2)/(n-1)\n",
    "sample_variance"
   ]
  },
  {
   "cell_type": "code",
   "execution_count": 178,
   "id": "1d0eb367",
   "metadata": {},
   "outputs": [
    {
     "data": {
      "text/plain": [
       "28.720541753333343"
      ]
     },
     "execution_count": 178,
     "metadata": {},
     "output_type": "execute_result"
    }
   ],
   "source": [
    "H = (n - 1) * sample_variance / variance\n",
    "H"
   ]
  },
  {
   "cell_type": "code",
   "execution_count": 179,
   "id": "7159da94",
   "metadata": {},
   "outputs": [
    {
     "data": {
      "text/plain": [
       "(11.688551922452438, 38.0756272503558)"
      ]
     },
     "execution_count": 179,
     "metadata": {},
     "output_type": "execute_result"
    }
   ],
   "source": [
    "t1 = stats.chi2.ppf(alpha / 2, df=n-1)\n",
    "t2 = stats.chi2.ppf(1 - alpha / 2, df=n-1)\n",
    "\n",
    "t1, t2"
   ]
  },
  {
   "cell_type": "code",
   "execution_count": 180,
   "id": "f05a0474",
   "metadata": {},
   "outputs": [
    {
     "name": "stdout",
     "output_type": "stream",
     "text": [
      "1\n"
     ]
    }
   ],
   "source": [
    "if H < t1 or H > t2:\n",
    "    print(\"0\")\n",
    "else:\n",
    "    print(\"1\")"
   ]
  }
 ],
 "metadata": {
  "kernelspec": {
   "display_name": "Python 3",
   "language": "python",
   "name": "python3"
  },
  "language_info": {
   "codemirror_mode": {
    "name": "ipython",
    "version": 3
   },
   "file_extension": ".py",
   "mimetype": "text/x-python",
   "name": "python",
   "nbconvert_exporter": "python",
   "pygments_lexer": "ipython3",
   "version": "3.8.8"
  }
 },
 "nbformat": 4,
 "nbformat_minor": 5
}
