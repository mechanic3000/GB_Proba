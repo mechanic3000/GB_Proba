{
 "cells": [
  {
   "cell_type": "code",
   "execution_count": 1,
   "id": "d60532e3",
   "metadata": {},
   "outputs": [],
   "source": [
    "import numpy as np\n",
    "import pandas as pd\n",
    "from sklearn.linear_model import LinearRegression"
   ]
  },
  {
   "cell_type": "markdown",
   "id": "2ae4513a",
   "metadata": {},
   "source": [
    "__Задача 1__\n",
    "\n",
    "Дана матрица объект-признак\n",
    "```\n",
    "X = [[ 1.22401313,  2.30868478,  3.03636353,  2.69287214],\n",
    "     [-0.18757272,  1.30337355,  5.12093014,  3.46363202],\n",
    "     [-0.81094525,  1.82463398,  5.79686488,  1.86159445],\n",
    "     [ 0.75129018,  2.67392052,  3.65529809,  1.66746094],\n",
    "     [ 0.00972362,  1.97367255,  2.50594319,  1.69755173],\n",
    "     [-0.62972637,  0.77750764,  2.84124027,  4.54410559],\n",
    "     [ 2.29536229,  1.81206697,  1.95026215,  1.51874636],\n",
    "     [ 0.0920418 ,  2.26971361,  7.47708735,  2.61081203],\n",
    "     [ 2.39252799,  3.17563985,  3.61420599,  5.10773362],\n",
    "     [ 0.54983815,  2.87988651,  1.65752765,  1.59635987]]\n",
    "```\n",
    "и значения целевой переменной\n",
    "```\n",
    "y = [ 9.26193358,  9.700363  ,  8.67214805,  8.74796974,  6.18689108,\n",
    "      7.53312713,  7.57643777, 12.44965478, 14.29010746,  6.68361218]\n",
    "```\n",
    "\n",
    "Подберите два признака (из четырёх) так, чтобы уровень линейной зависимости целевой переменной от значений этих признаков был максимальным. Другими словами, модель линейной регрессии на этих признаках должна давать наилучший результат. В качестве ответа запишите значение коэффициента детерминации для модели на этих признаках.\n"
   ]
  },
  {
   "cell_type": "code",
   "execution_count": 2,
   "id": "5eaa0469",
   "metadata": {},
   "outputs": [
    {
     "data": {
      "text/plain": [
       "((10, 3), (10,))"
      ]
     },
     "execution_count": 2,
     "metadata": {},
     "output_type": "execute_result"
    }
   ],
   "source": [
    "X = np.array([[ 1.22401313,  2.30868478,  3.03636353,  2.69287214],\n",
    "     [-0.18757272,  1.30337355,  5.12093014,  3.46363202],\n",
    "     [-0.81094525,  1.82463398,  5.79686488,  1.86159445],\n",
    "     [ 0.75129018,  2.67392052,  3.65529809,  1.66746094],\n",
    "     [ 0.00972362,  1.97367255,  2.50594319,  1.69755173],\n",
    "     [-0.62972637,  0.77750764,  2.84124027,  4.54410559],\n",
    "     [ 2.29536229,  1.81206697,  1.95026215,  1.51874636],\n",
    "     [ 0.0920418 ,  2.26971361,  7.47708735,  2.61081203],\n",
    "     [ 2.39252799,  3.17563985,  3.61420599,  5.10773362],\n",
    "     [ 0.54983815,  2.87988651,  1.65752765,  1.59635987]])\n",
    "\n",
    "y = np.array([ 9.26193358,  9.700363  ,  8.67214805,  8.74796974,  6.18689108,\n",
    "      7.53312713,  7.57643777, 12.44965478, 14.29010746,  6.68361218])\n",
    "\n",
    "X = X[:, :3]\n",
    "\n",
    "X.shape, y.shape"
   ]
  },
  {
   "cell_type": "code",
   "execution_count": 3,
   "id": "fd4fedd6",
   "metadata": {},
   "outputs": [
    {
     "data": {
      "text/plain": [
       "array([[ 1.        ,  1.22401313,  2.30868478,  3.03636353],\n",
       "       [ 1.        , -0.18757272,  1.30337355,  5.12093014],\n",
       "       [ 1.        , -0.81094525,  1.82463398,  5.79686488],\n",
       "       [ 1.        ,  0.75129018,  2.67392052,  3.65529809],\n",
       "       [ 1.        ,  0.00972362,  1.97367255,  2.50594319],\n",
       "       [ 1.        , -0.62972637,  0.77750764,  2.84124027],\n",
       "       [ 1.        ,  2.29536229,  1.81206697,  1.95026215],\n",
       "       [ 1.        ,  0.0920418 ,  2.26971361,  7.47708735],\n",
       "       [ 1.        ,  2.39252799,  3.17563985,  3.61420599],\n",
       "       [ 1.        ,  0.54983815,  2.87988651,  1.65752765]])"
      ]
     },
     "execution_count": 3,
     "metadata": {},
     "output_type": "execute_result"
    }
   ],
   "source": [
    "ones = np.ones((X.shape[0], 1))\n",
    "X = np.hstack((ones, X))\n",
    "X"
   ]
  },
  {
   "cell_type": "code",
   "execution_count": 4,
   "id": "5d12fe95",
   "metadata": {},
   "outputs": [],
   "source": [
    "XTX = X.T.dot(X)"
   ]
  },
  {
   "cell_type": "code",
   "execution_count": 5,
   "id": "cfa0042c",
   "metadata": {},
   "outputs": [
    {
     "data": {
      "text/plain": [
       "array([3.05093578, 1.47184411, 0.35994664, 1.18613078])"
      ]
     },
     "execution_count": 5,
     "metadata": {},
     "output_type": "execute_result"
    }
   ],
   "source": [
    "XTX_inv = np.linalg.inv(XTX)\n",
    "\n",
    "b = XTX_inv.dot(X.T).dot(y)\n",
    "b"
   ]
  },
  {
   "cell_type": "code",
   "execution_count": 6,
   "id": "8945f00f",
   "metadata": {},
   "outputs": [
    {
     "data": {
      "text/plain": [
       "array([-0.02308628,  0.38226725, -0.71781345, -0.70687833, -0.56114949,\n",
       "        1.75910661, -1.81842685, -0.42253139,  2.2877616 , -0.17924967])"
      ]
     },
     "execution_count": 6,
     "metadata": {},
     "output_type": "execute_result"
    }
   ],
   "source": [
    "z = X.dot(b)\n",
    "e = y - z\n",
    "\n",
    "e"
   ]
  },
  {
   "cell_type": "code",
   "execution_count": 7,
   "id": "6493383d",
   "metadata": {},
   "outputs": [
    {
     "data": {
      "text/plain": [
       "2.957634137601417e-14"
      ]
     },
     "execution_count": 7,
     "metadata": {},
     "output_type": "execute_result"
    }
   ],
   "source": [
    "e.mean()"
   ]
  },
  {
   "cell_type": "code",
   "execution_count": 25,
   "id": "67d5cee2",
   "metadata": {},
   "outputs": [
    {
     "data": {
      "text/plain": [
       "(array([3.05093578, 1.47184411, 0.35994664, 1.18613078]),\n",
       " array([3.05093578, 1.47184411, 0.35994664, 1.18613078]))"
      ]
     },
     "execution_count": 25,
     "metadata": {},
     "output_type": "execute_result"
    }
   ],
   "source": [
    "# через skliearn\n",
    "lr = LinearRegression(fit_intercept=False).fit(X, y)\n",
    "b, lr.coef_"
   ]
  },
  {
   "cell_type": "code",
   "execution_count": 10,
   "id": "498152f6",
   "metadata": {},
   "outputs": [],
   "source": [
    "def sum_of_squares(samples: np.ndarray) -> float:\n",
    "    \"\"\"Сумма квадратов отклонений.\n",
    "    \"\"\"\n",
    "    \n",
    "    return ((samples - samples.mean()) ** 2).sum()"
   ]
  },
  {
   "cell_type": "code",
   "execution_count": 11,
   "id": "dd3d1c9e",
   "metadata": {},
   "outputs": [
    {
     "data": {
      "text/plain": [
       "0.7701157002858928"
      ]
     },
     "execution_count": 11,
     "metadata": {},
     "output_type": "execute_result"
    }
   ],
   "source": [
    "R = 1 - sum_of_squares(e) / sum_of_squares(y)\n",
    "R\n",
    "\n",
    "# 0.7701157002858928    максимальный R при применении первого и второго признака"
   ]
  },
  {
   "cell_type": "code",
   "execution_count": 12,
   "id": "ee8af593",
   "metadata": {},
   "outputs": [
    {
     "data": {
      "text/plain": [
       "array([[1.       , 0.7701157],\n",
       "       [0.7701157, 1.       ]])"
      ]
     },
     "execution_count": 12,
     "metadata": {},
     "output_type": "execute_result"
    }
   ],
   "source": [
    "np.corrcoef(y, z) ** 2"
   ]
  },
  {
   "cell_type": "markdown",
   "id": "4c040d62",
   "metadata": {},
   "source": [
    "__Задание 2__\n",
    "\n",
    "Является ли значимым уравнение регрессии, полученное в предыдущей задаче? В качестве ответа запишите 1, если является, и 0 иначе."
   ]
  },
  {
   "cell_type": "code",
   "execution_count": 13,
   "id": "fa36a634",
   "metadata": {},
   "outputs": [
    {
     "data": {
      "text/plain": [
       "(2, 7)"
      ]
     },
     "execution_count": 13,
     "metadata": {},
     "output_type": "execute_result"
    }
   ],
   "source": [
    "n = X.shape[0]\n",
    "m = 2\n",
    "\n",
    "k1 = m\n",
    "k2 = n - m - 1\n",
    "\n",
    "k1, k2"
   ]
  },
  {
   "cell_type": "code",
   "execution_count": 14,
   "id": "6bd6f82c",
   "metadata": {},
   "outputs": [],
   "source": [
    "from scipy import stats"
   ]
  },
  {
   "cell_type": "code",
   "execution_count": 15,
   "id": "2477aa14",
   "metadata": {},
   "outputs": [
    {
     "data": {
      "text/plain": [
       "4.73741412777588"
      ]
     },
     "execution_count": 15,
     "metadata": {},
     "output_type": "execute_result"
    }
   ],
   "source": [
    "alpha = 0.05\n",
    "\n",
    "t = stats.f.ppf(1 - alpha, k1, k2)\n",
    "t"
   ]
  },
  {
   "cell_type": "code",
   "execution_count": 16,
   "id": "f59524d3",
   "metadata": {},
   "outputs": [
    {
     "data": {
      "text/plain": [
       "11.725050185474748"
      ]
     },
     "execution_count": 16,
     "metadata": {},
     "output_type": "execute_result"
    }
   ],
   "source": [
    "F = (R / k1) / ((1 - R) / k2)\n",
    "F"
   ]
  },
  {
   "cell_type": "markdown",
   "id": "2798104b",
   "metadata": {},
   "source": [
    "11.72505 > 4.7374  --->  уравнение регрессии значимо"
   ]
  },
  {
   "cell_type": "markdown",
   "id": "79ebc590",
   "metadata": {},
   "source": [
    "Ответ 1"
   ]
  },
  {
   "cell_type": "markdown",
   "id": "9cc591ba",
   "metadata": {},
   "source": [
    "__Задача 3__\n",
    "\n",
    "Для проведения A/B-тестирования сайта интернет-магазина были получены следующие данные: страница `A` была посещена 2509 раз, из них 77 закончились совершением покупки, страница `B` была посещена 1465 раз, 60 из них закончились совершением покупки. Является ли значимым отличие конверсии на страницах `A` и `B`? В качестве ответа запишите 1, если является, и 0 иначе.\n",
    "\n",
    "_Подсказка_. Реализуйте двухвыборочный t-тест. В качестве выборок здесь можно взять наборы меток совершения покупки (0 или 1) каждым посетителем."
   ]
  },
  {
   "cell_type": "code",
   "execution_count": 17,
   "id": "604b6a44",
   "metadata": {},
   "outputs": [
    {
     "data": {
      "text/plain": [
       "array([1, 1, 1, ..., 0, 0, 0])"
      ]
     },
     "execution_count": 17,
     "metadata": {},
     "output_type": "execute_result"
    }
   ],
   "source": [
    "A = np.array([1 for _ in range(77)] + [0 for _ in range(2509-77)])\n",
    "A"
   ]
  },
  {
   "cell_type": "code",
   "execution_count": 18,
   "id": "752cab02",
   "metadata": {},
   "outputs": [
    {
     "data": {
      "text/plain": [
       "array([1, 1, 1, ..., 0, 0, 0])"
      ]
     },
     "execution_count": 18,
     "metadata": {},
     "output_type": "execute_result"
    }
   ],
   "source": [
    "B = np.array([1 for _ in range(60)] + [0 for _ in range(1465-60)])\n",
    "B"
   ]
  },
  {
   "cell_type": "code",
   "execution_count": 19,
   "id": "208789d6",
   "metadata": {},
   "outputs": [],
   "source": [
    "n1 = A.size\n",
    "n2 = B.size\n",
    "\n",
    "s1 = A.std(ddof=1)\n",
    "s2 = B.std(ddof=1)"
   ]
  },
  {
   "cell_type": "code",
   "execution_count": 20,
   "id": "e104f98f",
   "metadata": {},
   "outputs": [
    {
     "data": {
      "text/plain": [
       "0.006220171278295827"
      ]
     },
     "execution_count": 20,
     "metadata": {},
     "output_type": "execute_result"
    }
   ],
   "source": [
    "s_delta = np.sqrt(s1 ** 2 / n1 + s2 ** 2 / n2)\n",
    "s_delta"
   ]
  },
  {
   "cell_type": "code",
   "execution_count": 21,
   "id": "b734420e",
   "metadata": {},
   "outputs": [
    {
     "data": {
      "text/plain": [
       "-1.6504551408398205"
      ]
     },
     "execution_count": 21,
     "metadata": {},
     "output_type": "execute_result"
    }
   ],
   "source": [
    "t = (A.mean() - B.mean()) / s_delta\n",
    "t"
   ]
  },
  {
   "cell_type": "code",
   "execution_count": 22,
   "id": "ba42e133",
   "metadata": {},
   "outputs": [
    {
     "data": {
      "text/plain": [
       "2732.8025644352133"
      ]
     },
     "execution_count": 22,
     "metadata": {},
     "output_type": "execute_result"
    }
   ],
   "source": [
    "df = (s1 ** 2 / n1 + s2 ** 2 / n2) ** 2 / \\\n",
    "    ((s1 ** 2 / n1) ** 2 / (n1 - 1) + (s2 ** 2 / n2) ** 2 / (n2 - 1))\n",
    "\n",
    "df"
   ]
  },
  {
   "cell_type": "code",
   "execution_count": 23,
   "id": "455abbe8",
   "metadata": {},
   "outputs": [
    {
     "data": {
      "text/plain": [
       "(-1.9608324352746576, 1.9608324352746571)"
      ]
     },
     "execution_count": 23,
     "metadata": {},
     "output_type": "execute_result"
    }
   ],
   "source": [
    "alpha = 0.05\n",
    "\n",
    "t1 = stats.t.ppf(alpha / 2, df=df)\n",
    "t2 = stats.t.ppf(1 - alpha / 2, df=df)\n",
    "\n",
    "t1, t2"
   ]
  },
  {
   "cell_type": "markdown",
   "id": "458f62ec",
   "metadata": {},
   "source": [
    "значение t попало в критическую область --->> конверсия в тестах не отличается"
   ]
  },
  {
   "cell_type": "code",
   "execution_count": 24,
   "id": "e0874e71",
   "metadata": {},
   "outputs": [
    {
     "data": {
      "text/plain": [
       "Ttest_indResult(statistic=-1.6504551408398205, pvalue=0.09896479217925898)"
      ]
     },
     "execution_count": 24,
     "metadata": {},
     "output_type": "execute_result"
    }
   ],
   "source": [
    "# провека через stat\n",
    "stats.ttest_ind(A, B, equal_var=False)"
   ]
  },
  {
   "cell_type": "markdown",
   "id": "d1a2861f",
   "metadata": {},
   "source": [
    "Ответ: 0"
   ]
  }
 ],
 "metadata": {
  "kernelspec": {
   "display_name": "Python 3",
   "language": "python",
   "name": "python3"
  },
  "language_info": {
   "codemirror_mode": {
    "name": "ipython",
    "version": 3
   },
   "file_extension": ".py",
   "mimetype": "text/x-python",
   "name": "python",
   "nbconvert_exporter": "python",
   "pygments_lexer": "ipython3",
   "version": "3.8.8"
  }
 },
 "nbformat": 4,
 "nbformat_minor": 5
}
