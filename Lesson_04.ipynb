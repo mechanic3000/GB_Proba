{
 "cells": [
  {
   "cell_type": "markdown",
   "id": "0db3a3d8",
   "metadata": {},
   "source": [
    "#### ДЗ урок 4\n",
    "\n",
    "1. Случайная непрерывная величина A имеет равномерное распределение на промежутке (200, 800].\n",
    "Найдите ее среднее значение и дисперсию."
   ]
  },
  {
   "cell_type": "code",
   "execution_count": 1,
   "id": "1f95e19b",
   "metadata": {},
   "outputs": [],
   "source": [
    "import numpy as np\n",
    "from scipy import stats"
   ]
  },
  {
   "cell_type": "code",
   "execution_count": 2,
   "id": "482ffbaa",
   "metadata": {},
   "outputs": [
    {
     "name": "stdout",
     "output_type": "stream",
     "text": [
      "E = 500.000005\n"
     ]
    }
   ],
   "source": [
    "interv = (200.00001, 800)\n",
    "\n",
    "E = (interv[0]+interv[1])/len(interv)\n",
    "print(f'E = {E}')"
   ]
  },
  {
   "cell_type": "code",
   "execution_count": 3,
   "id": "c6a1667a",
   "metadata": {},
   "outputs": [
    {
     "name": "stdout",
     "output_type": "stream",
     "text": [
      "D = 29999.99900000001\n"
     ]
    }
   ],
   "source": [
    "D = (interv[1]-interv[0])**2/12\n",
    "print(f'D = {D}')"
   ]
  },
  {
   "cell_type": "markdown",
   "id": "7a6ae8de",
   "metadata": {},
   "source": [
    "===========================================================\n",
    "\n",
    "2. О случайной непрерывной равномерно распределенной величине B известно, что ее дисперсия равна 0.2.\n",
    "Можно ли найти правую границу величины B и ее среднее значение зная, что левая граница равна 0.5?\n",
    "Если да, найдите ее\n"
   ]
  },
  {
   "cell_type": "code",
   "execution_count": 4,
   "id": "ca3a6806",
   "metadata": {},
   "outputs": [],
   "source": [
    "import sympy as sp"
   ]
  },
  {
   "cell_type": "code",
   "execution_count": 5,
   "id": "099ecf07",
   "metadata": {},
   "outputs": [],
   "source": [
    "D, a, b = sp.symbols('D a b')"
   ]
  },
  {
   "cell_type": "code",
   "execution_count": 6,
   "id": "d26f4162",
   "metadata": {},
   "outputs": [],
   "source": [
    "a = 0.5\n",
    "D = 0.2"
   ]
  },
  {
   "cell_type": "code",
   "execution_count": 7,
   "id": "d0788367",
   "metadata": {},
   "outputs": [
    {
     "data": {
      "text/latex": [
       "$\\displaystyle \\frac{\\left(b - 0.5\\right)^{2}}{12} = 0.2$"
      ],
      "text/plain": [
       "Eq((b - 0.5)**2/12, 0.2)"
      ]
     },
     "execution_count": 7,
     "metadata": {},
     "output_type": "execute_result"
    }
   ],
   "source": [
    "expr = sp.Eq((b - a)**2 / 12, D)\n",
    "expr"
   ]
  },
  {
   "cell_type": "code",
   "execution_count": 8,
   "id": "4bd3b99f",
   "metadata": {},
   "outputs": [
    {
     "data": {
      "text/plain": [
       "[-1.04919333848297, 2.04919333848297]"
      ]
     },
     "execution_count": 8,
     "metadata": {},
     "output_type": "execute_result"
    }
   ],
   "source": [
    "b_ = sp.solve(expr, b)\n",
    "b_"
   ]
  },
  {
   "cell_type": "code",
   "execution_count": 9,
   "id": "09571a8e",
   "metadata": {},
   "outputs": [],
   "source": [
    "E = (a + b_[1]) / 2"
   ]
  },
  {
   "cell_type": "code",
   "execution_count": 10,
   "id": "aae38e06",
   "metadata": {},
   "outputs": [
    {
     "name": "stdout",
     "output_type": "stream",
     "text": [
      "Правая граница величины B = 2.04919333848297, среднее значение = 1.27459666924148\n"
     ]
    }
   ],
   "source": [
    "print(f'Правая граница величины B = {b_[1]}, среднее значение = {E}')"
   ]
  },
  {
   "cell_type": "markdown",
   "id": "8d6595f2",
   "metadata": {},
   "source": [
    "======================================================\n",
    "\n",
    "3. Непрерывная случайная величина X распределена нормально и задана плотностью распределения\n",
    "\n",
    "f(x) = (1 / (4 * sqrt(2*pi))) * (exp(-(x+2)*** 2) / 32).\n",
    "\n",
    "Найдите:\n",
    "\n",
    "а) M(X)\n",
    "\n",
    "б) D(X)\n",
    "\n",
    "в) std(X) (среднее квадратичное отклонение)\n",
    "\n"
   ]
  },
  {
   "cell_type": "markdown",
   "id": "dbcab942",
   "metadata": {},
   "source": [
    "Предполагаю, что в задании ошибка,\n",
    "под выражением \n",
    "\n",
    "$$ f(x) = \\frac{1}{4 * \\sqrt{2 \\pi}} * \\frac{\\exp(-(x+2)^2)}{32}$$ \n",
    "\n",
    "подразумевалось выражение, согласно формуле\n",
    "$$ f(x) = \\frac{1}{\\sqrt{2\\pi\\sigma^2}}*\\exp{(-\\frac{(x - \\mu)^2}{2\\sigma^2})} $$\n",
    "\n",
    "Следовательно для решения задания буду использовать функцию \n",
    "$$ f(x) = \\frac{1}{4\\sqrt{2\\pi}}*\\exp{(-\\frac{(x - \\mu)^2}{32})} $$"
   ]
  },
  {
   "cell_type": "markdown",
   "id": "80b343d5",
   "metadata": {},
   "source": [
    "$ M(X) = \\mu , D(X) = \\sigma^2$\n",
    "\n",
    "Отсюда получим\n",
    "$ M(X) = -2, D(X) = 16, std(X) = 4$"
   ]
  },
  {
   "cell_type": "markdown",
   "id": "16cd1270",
   "metadata": {},
   "source": [
    "===========================================================================\n",
    "\n",
    "4. Рост взрослого населения города X имеет нормальное распределение.\n",
    "Причем, средний рост равен 174 см, а среднее квадратичное отклонение равно 8 см.\n",
    "Какова вероятность того, что случайным образом выбранный взрослый человек имеет рост:\n",
    "\n",
    "а). больше 182 см\n",
    "б). больше 190 см\n",
    "в). от 166 см до 190 см\n",
    "г). от 166 см до 182 см\n",
    "д). от 158 см до 190 см\n",
    "е). не выше 150 см или не ниже 190 см\n",
    "ё). не выше 150 см или не ниже 198 см\n",
    "ж). ниже 166 см.\n"
   ]
  },
  {
   "cell_type": "code",
   "execution_count": 11,
   "id": "4a5e8939",
   "metadata": {},
   "outputs": [],
   "source": [
    "from matplotlib import pyplot as plt"
   ]
  },
  {
   "cell_type": "code",
   "execution_count": 12,
   "id": "373d62cf",
   "metadata": {},
   "outputs": [],
   "source": [
    "mu = 174\n",
    "sigma = 8"
   ]
  },
  {
   "cell_type": "code",
   "execution_count": 13,
   "id": "31701305",
   "metadata": {},
   "outputs": [
    {
     "data": {
      "image/png": "[encoded data removed]",
      "text/plain": [
       "<Figure size 432x288 with 1 Axes>"
      ]
     },
     "metadata": {
      "needs_background": "light"
     },
     "output_type": "display_data"
    }
   ],
   "source": [
    "x = np.linspace(130, 220, 1000)\n",
    "plt.plot(x, stats.norm.pdf(x, 174, 8))\n",
    "plt.show()"
   ]
  },
  {
   "cell_type": "code",
   "execution_count": 14,
   "id": "8c03673d",
   "metadata": {},
   "outputs": [],
   "source": [
    "# по правилу трех сигм\n",
    "P1 = 68.3\n",
    "P2 = 95.4\n",
    "P3 = 99.7"
   ]
  },
  {
   "cell_type": "code",
   "execution_count": 15,
   "id": "9ba41fb0",
   "metadata": {},
   "outputs": [
    {
     "data": {
      "text/plain": [
       "15.850000000000001"
      ]
     },
     "execution_count": 15,
     "metadata": {},
     "output_type": "execute_result"
    }
   ],
   "source": [
    "# более 182 см\n",
    "P_gt_182 = (100 - P1) / 2 \n",
    "P_gt_182"
   ]
  },
  {
   "cell_type": "code",
   "execution_count": 16,
   "id": "8665bbc0",
   "metadata": {},
   "outputs": [
    {
     "data": {
      "text/plain": [
       "2.299999999999997"
      ]
     },
     "execution_count": 16,
     "metadata": {},
     "output_type": "execute_result"
    }
   ],
   "source": [
    "# более 190 см\n",
    "P_gt_190 = (100 - P2) / 2\n",
    "P_gt_190"
   ]
  },
  {
   "cell_type": "code",
   "execution_count": 17,
   "id": "8efbaddb",
   "metadata": {},
   "outputs": [
    {
     "data": {
      "text/plain": [
       "81.85"
      ]
     },
     "execution_count": 17,
     "metadata": {},
     "output_type": "execute_result"
    }
   ],
   "source": [
    "# от 166 см до 190 см\n",
    "P_166_190 = P1 + (P_gt_182 - P_gt_190)\n",
    "P_166_190"
   ]
  },
  {
   "cell_type": "code",
   "execution_count": 18,
   "id": "e2590758",
   "metadata": {},
   "outputs": [
    {
     "data": {
      "text/plain": [
       "68.3"
      ]
     },
     "execution_count": 18,
     "metadata": {},
     "output_type": "execute_result"
    }
   ],
   "source": [
    "# от 166 см до 182 см\n",
    "P_166_182 = P1\n",
    "P_166_182"
   ]
  },
  {
   "cell_type": "code",
   "execution_count": 19,
   "id": "9371775b",
   "metadata": {},
   "outputs": [
    {
     "data": {
      "text/plain": [
       "95.4"
      ]
     },
     "execution_count": 19,
     "metadata": {},
     "output_type": "execute_result"
    }
   ],
   "source": [
    "# от 158 см до 190 см\n",
    "P_158_190 = P2\n",
    "P_158_190"
   ]
  },
  {
   "cell_type": "code",
   "execution_count": 20,
   "id": "6f7fa7a7",
   "metadata": {},
   "outputs": [
    {
     "data": {
      "text/plain": [
       "2.4499999999999957"
      ]
     },
     "execution_count": 20,
     "metadata": {},
     "output_type": "execute_result"
    }
   ],
   "source": [
    "# не выше 150 см или не ниже 190 см \n",
    "P_lt_150 = (100 - P3) / 2\n",
    "P_lt_150_gt_190 = P_lt_150 + P_gt_190\n",
    "P_lt_150_gt_190"
   ]
  },
  {
   "cell_type": "code",
   "execution_count": 21,
   "id": "40f6ad19",
   "metadata": {},
   "outputs": [
    {
     "data": {
      "text/plain": [
       "0.29999999999999716"
      ]
     },
     "execution_count": 21,
     "metadata": {},
     "output_type": "execute_result"
    }
   ],
   "source": [
    "# не выше 150 см или не ниже 198 см\n",
    "P_lt_150_gt_198 = 100 - P3\n",
    "P_lt_150_gt_198"
   ]
  },
  {
   "cell_type": "code",
   "execution_count": 22,
   "id": "c68a8f8c",
   "metadata": {},
   "outputs": [
    {
     "data": {
      "text/plain": [
       "15.850000000000001"
      ]
     },
     "execution_count": 22,
     "metadata": {},
     "output_type": "execute_result"
    }
   ],
   "source": [
    "# ниже 166 см\n",
    "P_lt_166 = (100 - P1) / 2\n",
    "P_lt_166"
   ]
  },
  {
   "cell_type": "markdown",
   "id": "8e782346",
   "metadata": {},
   "source": [
    "================================================================\n",
    "\n",
    "5. На сколько сигм (средних квадратичных отклонений) отклоняется рост человека, равный 190 см, от\n",
    "математического ожидания роста в популяции, в которой M(X) = 178 см и D(X) = 25 кв.см?\n"
   ]
  },
  {
   "cell_type": "code",
   "execution_count": 23,
   "id": "5970a098",
   "metadata": {},
   "outputs": [],
   "source": [
    "M_x = 178\n",
    "D_x = 25\n",
    "height = 190"
   ]
  },
  {
   "cell_type": "code",
   "execution_count": 27,
   "id": "56d1914e",
   "metadata": {},
   "outputs": [
    {
     "data": {
      "text/plain": [
       "5.0"
      ]
     },
     "execution_count": 27,
     "metadata": {},
     "output_type": "execute_result"
    }
   ],
   "source": [
    "sigma = np.sqrt(D_x)\n",
    "sigma"
   ]
  },
  {
   "cell_type": "code",
   "execution_count": 29,
   "id": "7e332cff",
   "metadata": {},
   "outputs": [
    {
     "name": "stdout",
     "output_type": "stream",
     "text": [
      "Ответ: рост человека равный 190см отклоняется на 2.4$$\\sigma$$\n"
     ]
    }
   ],
   "source": [
    "a = (height - M_x) / sigma\n",
    "print(f'Ответ: рост человека равный {height}см отклоняется на {a}')"
   ]
  }
 ],
 "metadata": {
  "kernelspec": {
   "display_name": "Python 3",
   "language": "python",
   "name": "python3"
  },
  "language_info": {
   "codemirror_mode": {
    "name": "ipython",
    "version": 3
   },
   "file_extension": ".py",
   "mimetype": "text/x-python",
   "name": "python",
   "nbconvert_exporter": "python",
   "pygments_lexer": "ipython3",
   "version": "3.8.8"
  }
 },
 "nbformat": 4,
 "nbformat_minor": 5
}
