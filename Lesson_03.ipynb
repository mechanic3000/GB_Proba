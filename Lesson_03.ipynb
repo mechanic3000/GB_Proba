{
 "cells": [
  {
   "cell_type": "markdown",
   "id": "d79bc4c4",
   "metadata": {},
   "source": [
    "#### Задача 1\n",
    "\n",
    "Даны значения зарплат из выборки выпускников: \n",
    "100, 80, 75, 77, 89, 33, 45, 25, 65, 17, 30, 230, 24, 57, 55, 70, 75, 65, 84, 90, 150\n",
    "\n",
    "Используя только встроенные питоновские функции и структуры данных (т.е. без библиотек numpy, pandas и др.), посчитайте (несмещённое) среднее квадратичное отклонение для данной выборки."
   ]
  },
  {
   "cell_type": "code",
   "execution_count": 1,
   "id": "e756ac3c",
   "metadata": {},
   "outputs": [],
   "source": [
    "data = [100, 80, 75, 77, 89, 33, 45, 25, 65, 17, 30, 230, 24, 57, 55, 70, 75, 65, 84, 90, 150]"
   ]
  },
  {
   "cell_type": "code",
   "execution_count": 25,
   "id": "c758a52a",
   "metadata": {},
   "outputs": [
    {
     "data": {
      "text/plain": [
       "21"
      ]
     },
     "execution_count": 25,
     "metadata": {},
     "output_type": "execute_result"
    }
   ],
   "source": [
    "length = len(data)\n",
    "length"
   ]
  },
  {
   "cell_type": "code",
   "execution_count": 26,
   "id": "d02b3bf3",
   "metadata": {},
   "outputs": [
    {
     "data": {
      "text/plain": [
       "73.14285714285714"
      ]
     },
     "execution_count": 26,
     "metadata": {},
     "output_type": "execute_result"
    }
   ],
   "source": [
    "mean = sum(data) / length\n",
    "mean"
   ]
  },
  {
   "cell_type": "code",
   "execution_count": 28,
   "id": "dcde2044",
   "metadata": {},
   "outputs": [
    {
     "data": {
      "text/plain": [
       "2241.8285714285716"
      ]
     },
     "execution_count": 28,
     "metadata": {},
     "output_type": "execute_result"
    }
   ],
   "source": [
    "mapped_data = map(lambda x: (x - mean)**2, data)\n",
    "var = sum(mapped_data)/ (length - 1)\n",
    "var"
   ]
  },
  {
   "cell_type": "code",
   "execution_count": 17,
   "id": "cca21513",
   "metadata": {},
   "outputs": [
    {
     "data": {
      "text/plain": [
       "47.34795213553139"
      ]
     },
     "execution_count": 17,
     "metadata": {},
     "output_type": "execute_result"
    }
   ],
   "source": [
    "std = var**0.5\n",
    "std"
   ]
  },
  {
   "cell_type": "markdown",
   "id": "31c8ca5c",
   "metadata": {},
   "source": [
    "#### Задача 2\n",
    "\n",
    "Найдите число выбросов в выборке из задачи 1. Для определения выбросов используйте методику как при построении \"усов\" в boxplot, однако, как и в задаче 1, пользоваться можно только встроенными функциями и структурами данных."
   ]
  },
  {
   "cell_type": "code",
   "execution_count": 19,
   "id": "e26d8e83",
   "metadata": {},
   "outputs": [
    {
     "name": "stdout",
     "output_type": "stream",
     "text": [
      "[17, 24, 25, 30, 33, 45, 55, 57, 65, 65, 70, 75, 75, 77, 80, 84, 89, 90, 100, 150, 230]\n"
     ]
    }
   ],
   "source": [
    "sorted_data = sorted(data)\n",
    "print(sorted_data)"
   ]
  },
  {
   "cell_type": "code",
   "execution_count": 36,
   "id": "f60047eb",
   "metadata": {},
   "outputs": [
    {
     "data": {
      "text/plain": [
       "5"
      ]
     },
     "execution_count": 36,
     "metadata": {},
     "output_type": "execute_result"
    }
   ],
   "source": [
    "if length // 4 != 0:\n",
    "    q1_pos = length // 4\n",
    "q1_pos"
   ]
  },
  {
   "cell_type": "code",
   "execution_count": 37,
   "id": "b9fcbe2e",
   "metadata": {},
   "outputs": [
    {
     "data": {
      "text/plain": [
       "70"
      ]
     },
     "execution_count": 37,
     "metadata": {},
     "output_type": "execute_result"
    }
   ],
   "source": [
    "med = sorted_data[q1_pos * 2]\n",
    "med"
   ]
  },
  {
   "cell_type": "code",
   "execution_count": 40,
   "id": "cfacbfd6",
   "metadata": {},
   "outputs": [
    {
     "data": {
      "text/plain": [
       "(45, 84)"
      ]
     },
     "execution_count": 40,
     "metadata": {},
     "output_type": "execute_result"
    }
   ],
   "source": [
    "q1 = sorted_data[q1_pos]\n",
    "q3 = sorted_data[q1_pos * 3]\n",
    "q1, q3 "
   ]
  },
  {
   "cell_type": "code",
   "execution_count": 42,
   "id": "32b21cb4",
   "metadata": {},
   "outputs": [
    {
     "data": {
      "text/plain": [
       "39"
      ]
     },
     "execution_count": 42,
     "metadata": {},
     "output_type": "execute_result"
    }
   ],
   "source": [
    "IQR = q3 - q1 \n",
    "IQR"
   ]
  },
  {
   "cell_type": "code",
   "execution_count": 45,
   "id": "457bdcf3",
   "metadata": {},
   "outputs": [
    {
     "data": {
      "text/plain": [
       "[-13.5, 142.5]"
      ]
     },
     "execution_count": 45,
     "metadata": {},
     "output_type": "execute_result"
    }
   ],
   "source": [
    "boxplot = [q1 - 1.5 * IQR, q3 + 1.5 * IQR]\n",
    "boxplot"
   ]
  },
  {
   "cell_type": "code",
   "execution_count": 53,
   "id": "268857b5",
   "metadata": {},
   "outputs": [
    {
     "name": "stdout",
     "output_type": "stream",
     "text": [
      "[150, 230]\n"
     ]
    }
   ],
   "source": [
    "outlier = [x for x in sorted_data if x >= boxplot[1] or x <= boxplot[0]]\n",
    "print(outlier)"
   ]
  },
  {
   "cell_type": "code",
   "execution_count": 54,
   "id": "4e3ef910",
   "metadata": {},
   "outputs": [
    {
     "data": {
      "text/plain": [
       "2"
      ]
     },
     "execution_count": 54,
     "metadata": {},
     "output_type": "execute_result"
    }
   ],
   "source": [
    "# ответ\n",
    "len(outlier)"
   ]
  },
  {
   "cell_type": "markdown",
   "id": "a57ee8f9",
   "metadata": {},
   "source": [
    "#### Задача 3\n",
    "\n",
    "В университет на факультет A поступило 100 человек, на факультет B - 90 человек и на факультет C - 45 человек. Вероятность того, что студент с факультета A сдаст первую сессию, равна 0.6. Для студента с факультета B эта вероятность равна 0.7, а для студента с факультета C - 0.8. Случайным образом выбирается студент, сдавший первую сессию. \n",
    "\n",
    "Какое событие наиболее вероятно:\n",
    "\n",
    "1) студент учится на факультете A,\n",
    "\n",
    "2) студент учится на факультете B,\n",
    "\n",
    "3) студент учится на факультете C?\n",
    "\n",
    "Замечание: да, эта задача не на тему статистики, но тема важная, и её стоит иногда освежать в памяти."
   ]
  },
  {
   "cell_type": "code",
   "execution_count": 57,
   "id": "2c204e07",
   "metadata": {},
   "outputs": [],
   "source": [
    "A = 100\n",
    "B = 90\n",
    "C = 45\n",
    "\n",
    "total = A + B + C"
   ]
  },
  {
   "cell_type": "code",
   "execution_count": 58,
   "id": "507c4aba",
   "metadata": {},
   "outputs": [
    {
     "data": {
      "text/plain": [
       "(0.425531914893617, 0.3829787234042553, 0.19148936170212766)"
      ]
     },
     "execution_count": 58,
     "metadata": {},
     "output_type": "execute_result"
    }
   ],
   "source": [
    "p_A = A / total\n",
    "p_B = B / total\n",
    "p_C = C / total\n",
    "\n",
    "p_A, p_B, p_C"
   ]
  },
  {
   "cell_type": "code",
   "execution_count": 59,
   "id": "5e83e6f9",
   "metadata": {},
   "outputs": [],
   "source": [
    "PA = 0.6\n",
    "PB = 0.7\n",
    "PC = 0.8"
   ]
  },
  {
   "cell_type": "code",
   "execution_count": 60,
   "id": "feab4be3",
   "metadata": {},
   "outputs": [
    {
     "data": {
      "text/plain": [
       "0.676595744680851"
      ]
     },
     "execution_count": 60,
     "metadata": {},
     "output_type": "execute_result"
    }
   ],
   "source": [
    "# по формуле полной вероятности\n",
    "PS = PA * p_A + PB * p_B + PC * p_C\n",
    "PS"
   ]
  },
  {
   "cell_type": "code",
   "execution_count": 61,
   "id": "429a35fa",
   "metadata": {},
   "outputs": [
    {
     "data": {
      "text/plain": [
       "(0.3773584905660377, 0.39622641509433965, 0.22641509433962265)"
      ]
     },
     "execution_count": 61,
     "metadata": {},
     "output_type": "execute_result"
    }
   ],
   "source": [
    "# по формуле Бейса\n",
    "P_AS = PA * p_A / PS\n",
    "P_BS = PB * p_B / PS\n",
    "P_CS = PC * p_C / PS\n",
    "\n",
    "P_AS, P_BS, P_CS"
   ]
  },
  {
   "cell_type": "markdown",
   "id": "88d88152",
   "metadata": {},
   "source": [
    "Верный ответ - 2 ( Студента учится на факультете B)"
   ]
  }
 ],
 "metadata": {
  "kernelspec": {
   "display_name": "Python 3",
   "language": "python",
   "name": "python3"
  },
  "language_info": {
   "codemirror_mode": {
    "name": "ipython",
    "version": 3
   },
   "file_extension": ".py",
   "mimetype": "text/x-python",
   "name": "python",
   "nbconvert_exporter": "python",
   "pygments_lexer": "ipython3",
   "version": "3.8.8"
  }
 },
 "nbformat": 4,
 "nbformat_minor": 5
}
