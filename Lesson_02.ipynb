{
 "cells": [
  {
   "cell_type": "code",
   "execution_count": 12,
   "id": "5b22c6e3",
   "metadata": {},
   "outputs": [],
   "source": [
    "import numpy as np\n",
    "import pandas as pd"
   ]
  },
  {
   "cell_type": "code",
   "execution_count": 2,
   "id": "5af14ae9",
   "metadata": {},
   "outputs": [],
   "source": [
    "def combinations(n: int, k: int) -> int:\n",
    "    \"\"\"Число сочетаний.\n",
    "    \"\"\"\n",
    "    \n",
    "    return np.math.factorial(n) // (np.math.factorial(k) * np.math.factorial(n - k))"
   ]
  },
  {
   "cell_type": "markdown",
   "id": "8b175172",
   "metadata": {},
   "source": [
    "#### Задачи 1 и 2\n",
    "\n",
    "Контрольная работа состоит из пяти вопросов. На каждый вопрос приведено четыре варианта ответа, один из которых правильный. Случайная величина X задаёт число правильных ответов при простом угадывании. Найдите математическое ожидание данной случайной величины. Найдите дисперсию случайной величины X.\n",
    "\n",
    "Подсказка: постройте закон распределения случайной величины X."
   ]
  },
  {
   "cell_type": "markdown",
   "id": "5327830a",
   "metadata": {},
   "source": [
    "x1=0, x2=1, x3=2, ..., x6=5\n",
    "\n",
    "$$P(X = k) = C_n^k p^k (1 - p)^{n - k}$$"
   ]
  },
  {
   "cell_type": "code",
   "execution_count": 53,
   "id": "b5cd7295",
   "metadata": {},
   "outputs": [],
   "source": [
    "p = 1/4\n",
    "n = 5"
   ]
  },
  {
   "cell_type": "code",
   "execution_count": 54,
   "id": "ce234bdb",
   "metadata": {},
   "outputs": [
    {
     "data": {
      "text/html": [
       "<div>\n",
       "<style scoped>\n",
       "    .dataframe tbody tr th:only-of-type {\n",
       "        vertical-align: middle;\n",
       "    }\n",
       "\n",
       "    .dataframe tbody tr th {\n",
       "        vertical-align: top;\n",
       "    }\n",
       "\n",
       "    .dataframe thead th {\n",
       "        text-align: right;\n",
       "    }\n",
       "</style>\n",
       "<table border=\"1\" class=\"dataframe\">\n",
       "  <thead>\n",
       "    <tr style=\"text-align: right;\">\n",
       "      <th></th>\n",
       "      <th>X</th>\n",
       "      <th>P_x</th>\n",
       "    </tr>\n",
       "  </thead>\n",
       "  <tbody>\n",
       "    <tr>\n",
       "      <th>0</th>\n",
       "      <td>0</td>\n",
       "      <td>0.237305</td>\n",
       "    </tr>\n",
       "    <tr>\n",
       "      <th>1</th>\n",
       "      <td>1</td>\n",
       "      <td>0.395508</td>\n",
       "    </tr>\n",
       "    <tr>\n",
       "      <th>2</th>\n",
       "      <td>2</td>\n",
       "      <td>0.263672</td>\n",
       "    </tr>\n",
       "    <tr>\n",
       "      <th>3</th>\n",
       "      <td>3</td>\n",
       "      <td>0.087891</td>\n",
       "    </tr>\n",
       "    <tr>\n",
       "      <th>4</th>\n",
       "      <td>4</td>\n",
       "      <td>0.014648</td>\n",
       "    </tr>\n",
       "    <tr>\n",
       "      <th>5</th>\n",
       "      <td>5</td>\n",
       "      <td>0.000977</td>\n",
       "    </tr>\n",
       "  </tbody>\n",
       "</table>\n",
       "</div>"
      ],
      "text/plain": [
       "   X       P_x\n",
       "0  0  0.237305\n",
       "1  1  0.395508\n",
       "2  2  0.263672\n",
       "3  3  0.087891\n",
       "4  4  0.014648\n",
       "5  5  0.000977"
      ]
     },
     "execution_count": 54,
     "metadata": {},
     "output_type": "execute_result"
    }
   ],
   "source": [
    "P_x = list()\n",
    "for i, k in enumerate(range(6)):\n",
    "    P_x.append([i, combinations(n, k) * p**k * (1 - p)**(n-k)])\n",
    "P_x = pd.DataFrame(data=P_x, columns=['X', 'P_x'])\n",
    "P_x"
   ]
  },
  {
   "cell_type": "code",
   "execution_count": 60,
   "id": "6a69a22b",
   "metadata": {},
   "outputs": [
    {
     "data": {
      "text/plain": [
       "1.25"
      ]
     },
     "execution_count": 60,
     "metadata": {},
     "output_type": "execute_result"
    }
   ],
   "source": [
    "M_x = (P_x.X * P_x.P_x).sum()\n",
    "M_x"
   ]
  },
  {
   "cell_type": "code",
   "execution_count": 62,
   "id": "a1421084",
   "metadata": {},
   "outputs": [
    {
     "data": {
      "text/plain": [
       "0.9304904937744141"
      ]
     },
     "execution_count": 62,
     "metadata": {},
     "output_type": "execute_result"
    }
   ],
   "source": [
    "D_x = (P_x.X * P_x.P_x * (1 - P_x.P_x)).sum()\n",
    "D_x"
   ]
  },
  {
   "cell_type": "markdown",
   "id": "59082aab",
   "metadata": {},
   "source": [
    "#### Задача 3\n",
    "\n",
    "Пользователь получает в среднем 10 писем со спамом на свой почтовый ящик за сутки. Найти число N, такое, что с вероятностью 0.95 пользователь получит не более N писем со спамом за текущий день."
   ]
  },
  {
   "cell_type": "markdown",
   "id": "9eb5b6c3",
   "metadata": {},
   "source": [
    "$$P(X = k) = \\dfrac{\\lambda^k e^{-\\lambda}}{k!}$$"
   ]
  },
  {
   "cell_type": "code",
   "execution_count": 63,
   "id": "aae0e25a",
   "metadata": {},
   "outputs": [],
   "source": [
    "def poisson_proba(k: int, lambda_: float) -> float:\n",
    "    \"\"\"Формула Пуассона.\n",
    "    \"\"\"\n",
    "    \n",
    "    return (lambda_ ** k) * (np.exp(-lambda_)) / np.math.factorial(k)"
   ]
  },
  {
   "cell_type": "code",
   "execution_count": 65,
   "id": "702d9b97",
   "metadata": {},
   "outputs": [],
   "source": [
    "lambda_ = 10"
   ]
  },
  {
   "cell_type": "code",
   "execution_count": 67,
   "id": "aa8fa28c",
   "metadata": {},
   "outputs": [
    {
     "data": {
      "text/plain": [
       "0.1251100357211333"
      ]
     },
     "execution_count": 67,
     "metadata": {},
     "output_type": "execute_result"
    }
   ],
   "source": [
    "poisson_proba(k=10, lambda_=lambda_)"
   ]
  },
  {
   "cell_type": "code",
   "execution_count": 185,
   "id": "eb9e85f8",
   "metadata": {},
   "outputs": [
    {
     "name": "stdout",
     "output_type": "stream",
     "text": [
      "С вероятностью 0.95 пользователь получит не более 15 писем в день\n"
     ]
    }
   ],
   "source": [
    "i = 0\n",
    "proba = 0\n",
    "\n",
    "while proba <= 0.95:\n",
    "    proba += poisson_proba(k = i, lambda_=lambda_)\n",
    "    i += 1\n",
    "\n",
    "print(f'С вероятностью {proba:.2} пользователь получит не более {i-1} писем в день')"
   ]
  },
  {
   "cell_type": "markdown",
   "id": "53a3e25f",
   "metadata": {},
   "source": [
    "#### Задача 4\n",
    "\n",
    "Производятся выстрелы по мишени. Вероятность попадания в мишень при одном выстреле равна 0.01. Сколько выстрелов нужно сделать чтобы быть уверенным с вероятностью 0.9, что хотя бы 6 раз будет совершено попадание?\n",
    "\n",
    "Подсказка: 1) \"Вероятность попасть k раз при n выстрелах\" - на какое распределение это похоже? 2) А если нам нужна вероятность P(X >= k), а не P(X = k)? 3) Здесь предстоит немножко покодить."
   ]
  },
  {
   "cell_type": "markdown",
   "id": "7d4f19bd",
   "metadata": {},
   "source": [
    "$$P(X = k) = C_n^k p^k (1 - p)^{n - k}$$"
   ]
  },
  {
   "cell_type": "code",
   "execution_count": 190,
   "id": "25d69f44",
   "metadata": {},
   "outputs": [
    {
     "name": "stdout",
     "output_type": "stream",
     "text": [
      "Необходимо совершить 926 выстрелов, чтобы с вероятностью 0.9 было не менее 6 попаданий\n"
     ]
    }
   ],
   "source": [
    "# вероятность попадания при одном выстреле\n",
    "p = 0.01\n",
    "\n",
    "# начальное кол-во выстрелов\n",
    "n = 6\n",
    "\n",
    "P = 0\n",
    "\n",
    "while P < 0.9:\n",
    "    P_lt_6 = sum(combinations(n, i) * p**i * (1 - p)**(n-i) for i in range(6))\n",
    "    \n",
    "    P = 1 - P_lt_6\n",
    "    n += 1\n",
    "    \n",
    "print(f'Необходимо совершить {n-1} выстрелов, чтобы с вероятностью {P:.2} было не менее 6 попаданий')"
   ]
  }
 ],
 "metadata": {
  "kernelspec": {
   "display_name": "Python 3",
   "language": "python",
   "name": "python3"
  },
  "language_info": {
   "codemirror_mode": {
    "name": "ipython",
    "version": 3
   },
   "file_extension": ".py",
   "mimetype": "text/x-python",
   "name": "python",
   "nbconvert_exporter": "python",
   "pygments_lexer": "ipython3",
   "version": "3.8.8"
  }
 },
 "nbformat": 4,
 "nbformat_minor": 5
}
